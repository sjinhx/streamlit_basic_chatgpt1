{
 "cells": [
  {
   "cell_type": "code",
   "execution_count": 35,
   "metadata": {},
   "outputs": [
    {
     "name": "stdout",
     "output_type": "stream",
     "text": [
      "Requirement already satisfied: tabulate in d:\\leehyoungyeol\\python_ai_agent\\myvenv1\\lib\\site-packages (0.9.0)\n",
      "Note: you may need to restart the kernel to use updated packages.\n"
     ]
    }
   ],
   "source": "# ========================= 코드 해설 주석 시작 =========================\n# 이 셀의 역할(요약):\n#  - 이 셀은 유틸리티/설정/임포트/헬퍼 함수 등 보조 로직을 수행합니다.\n# 주의: 아래 주석은 원본 코드의 동작을 변경하지 않으며, 가독성을 위해 상단에만 추가되었습니다.\n# 첫 줄 미리보기: '%pip install tabulate'\n# ========================= 코드 해설 주석 끝 ===========================\n%pip install tabulate\n"
  },
  {
   "cell_type": "code",
   "execution_count": 36,
   "metadata": {},
   "outputs": [
    {
     "data": {
      "text/plain": [
       "AIMessage(content='네, 잘 지냈어요! 당신은 어떻게 지내고 계신가요?', additional_kwargs={'refusal': None}, response_metadata={'token_usage': {'completion_tokens': 18, 'prompt_tokens': 12, 'total_tokens': 30, 'completion_tokens_details': {'accepted_prediction_tokens': 0, 'audio_tokens': 0, 'reasoning_tokens': 0, 'rejected_prediction_tokens': 0}, 'prompt_tokens_details': {'audio_tokens': 0, 'cached_tokens': 0}}, 'model_name': 'gpt-4o-mini-2024-07-18', 'system_fingerprint': 'fp_34a54ae93c', 'id': 'chatcmpl-Bx6vtKVxOSFaVYymxXnZftfRGUKmI', 'service_tier': 'default', 'finish_reason': 'stop', 'logprobs': None}, id='run--01edbc96-12c6-4c76-852d-fa7968b59134-0', usage_metadata={'input_tokens': 12, 'output_tokens': 18, 'total_tokens': 30, 'input_token_details': {'audio': 0, 'cache_read': 0}, 'output_token_details': {'audio': 0, 'reasoning': 0}})"
      ]
     },
     "execution_count": 36,
     "metadata": {},
     "output_type": "execute_result"
    }
   ],
   "source": "# ========================= 코드 해설 주석 시작 =========================\n# 이 셀의 역할(요약):\n#  - LangChain 구성요소(예: ChatOpenAI, Runnable 계열)를 초기화/사용합니다.\n#  - .env에서 OPENAI_API_KEY 등 환경 변수를 로드/사용합니다.\n#  - System/Human/AI/Tool 메시지 타입으로 대화를 구성합니다.\n# 주의: 아래 주석은 원본 코드의 동작을 변경하지 않으며, 가독성을 위해 상단에만 추가되었습니다.\n# 첫 줄 미리보기: 'from langchain_openai import ChatOpenAI'\n# ========================= 코드 해설 주석 끝 ===========================\nfrom langchain_openai import ChatOpenAI\nfrom langchain_core.messages import HumanMessage\n\n\n#openai_api_key가져오기\nfrom openai import OpenAI  # 주석처리\nfrom dotenv import load_dotenv\nimport os\nload_dotenv()\napi_key = os.getenv(\"OPENAI_API_KEY\")  # 환경 변수에서 API 키 가져오기\n#openai_api_key가져오기\n\nllm = ChatOpenAI(model=\"gpt-4o-mini\")\n\nllm.invoke([HumanMessage(\"잘 지냈어?\")])"
  },
  {
   "cell_type": "code",
   "execution_count": 37,
   "metadata": {},
   "outputs": [],
   "source": "# ========================= 코드 해설 주석 시작 =========================\n# 이 셀의 역할(요약):\n#  - LangChain 구성요소(예: ChatOpenAI, Runnable 계열)를 초기화/사용합니다.\n#  - 툴(@tool) 혹은 도구 바인딩/툴콜 처리 로직이 포함되어 있습니다.\n#  - 시간/타임존 관련 유틸리티(datetime/pytz)를 사용합니다.\n# 주의: 아래 주석은 원본 코드의 동작을 변경하지 않으며, 가독성을 위해 상단에만 추가되었습니다.\n# 첫 줄 미리보기: 'from langchain_core.tools import tool'\n# ========================= 코드 해설 주석 끝 ===========================\nfrom langchain_core.tools import tool\nfrom datetime import datetime\nimport pytz\n\n@tool # @tool 데코레이터를 사용하여 함수를 도구로 등록\ndef get_current_time(timezone: str, location: str) -> str:\n    \"\"\" 현재 시각을 반환하는 함수\n\n    Args:\n        timezone (str): 타임존 (예: 'Asia/Seoul') 실제 존재하는 타임존이어야 함\n        location (str): 지역명. 타임존이 모든 지명에 대응되지 않기 때문에 이후 llm 답변 생성에 사용됨\n    \"\"\"\n    tz = pytz.timezone(timezone)\n    now = datetime.now(tz).strftime(\"%Y-%m-%d %H:%M:%S\")\n    location_and_local_time = f'{timezone} ({location}) 현재시각 {now} ' # 타임존, 지역명, 현재시각을 문자열로 반환\n    print(location_and_local_time)\n    return location_and_local_time\n"
  },
  {
   "cell_type": "code",
   "execution_count": 38,
   "metadata": {},
   "outputs": [],
   "source": "# ========================= 코드 해설 주석 시작 =========================\n# 이 셀의 역할(요약):\n#  - 툴(@tool) 혹은 도구 바인딩/툴콜 처리 로직이 포함되어 있습니다.\n# 주의: 아래 주석은 원본 코드의 동작을 변경하지 않으며, 가독성을 위해 상단에만 추가되었습니다.\n# 첫 줄 미리보기: '# 도구를 tools 리스트에 추가하고, tool_dict에도 추가'\n# ========================= 코드 해설 주석 끝 ===========================\n# 도구를 tools 리스트에 추가하고, tool_dict에도 추가\ntools = [get_current_time,]\ntool_dict = {\"get_current_time\": get_current_time,}\n\n# 도구를 모델에 바인딩: 모델에 도구를 바인딩하면, 도구를 사용하여 llm 답변을 생성할 수 있음\nllm_with_tools = llm.bind_tools(tools)"
  },
  {
   "cell_type": "code",
   "execution_count": 39,
   "metadata": {},
   "outputs": [
    {
     "name": "stdout",
     "output_type": "stream",
     "text": [
      "[SystemMessage(content='너는 사용자의 질문에 답변을 하기 위해 tools를 사용할 수 있다.', additional_kwargs={}, response_metadata={}), HumanMessage(content='부산은 지금 몇시야?', additional_kwargs={}, response_metadata={}), AIMessage(content='', additional_kwargs={'tool_calls': [{'id': 'call_eIjwSe0C6ECT2QXEonMEB5hi', 'function': {'arguments': '{\"timezone\":\"Asia/Seoul\",\"location\":\"부산\"}', 'name': 'get_current_time'}, 'type': 'function'}], 'refusal': None}, response_metadata={'token_usage': {'completion_tokens': 23, 'prompt_tokens': 135, 'total_tokens': 158, 'completion_tokens_details': {'accepted_prediction_tokens': 0, 'audio_tokens': 0, 'reasoning_tokens': 0, 'rejected_prediction_tokens': 0}, 'prompt_tokens_details': {'audio_tokens': 0, 'cached_tokens': 0}}, 'model_name': 'gpt-4o-mini-2024-07-18', 'system_fingerprint': 'fp_34a54ae93c', 'id': 'chatcmpl-Bx6vuBXvWWFm0acUWaqiLIw7DLvBJ', 'service_tier': 'default', 'finish_reason': 'tool_calls', 'logprobs': None}, id='run--0d8e47a3-4716-4e0d-9029-fae1c985b83c-0', tool_calls=[{'name': 'get_current_time', 'args': {'timezone': 'Asia/Seoul', 'location': '부산'}, 'id': 'call_eIjwSe0C6ECT2QXEonMEB5hi', 'type': 'tool_call'}], usage_metadata={'input_tokens': 135, 'output_tokens': 23, 'total_tokens': 158, 'input_token_details': {'audio': 0, 'cache_read': 0}, 'output_token_details': {'audio': 0, 'reasoning': 0}})]\n"
     ]
    }
   ],
   "source": "# ========================= 코드 해설 주석 시작 =========================\n# 이 셀의 역할(요약):\n#  - LangChain 구성요소(예: ChatOpenAI, Runnable 계열)를 초기화/사용합니다.\n#  - System/Human/AI/Tool 메시지 타입으로 대화를 구성합니다.\n# 주의: 아래 주석은 원본 코드의 동작을 변경하지 않으며, 가독성을 위해 상단에만 추가되었습니다.\n# 첫 줄 미리보기: 'from langchain_core.messages import SystemMessage'\n# ========================= 코드 해설 주석 끝 ===========================\nfrom langchain_core.messages import SystemMessage\n\n# (4) 사용자의 질문과 tools 사용하여 llm 답변 생성\nmessages = [\n    SystemMessage(\"너는 사용자의 질문에 답변을 하기 위해 tools를 사용할 수 있다.\"),\n    HumanMessage(\"부산은 지금 몇시야?\"),\n]\n\n# (5) llm_with_tools를 사용하여 사용자의 질문에 대한 llm 답변 생성\nresponse = llm_with_tools.invoke(messages)\nmessages.append(response)\n\n# (6) 생성된 llm 답변 출력\nprint(messages)"
  },
  {
   "cell_type": "code",
   "execution_count": 40,
   "metadata": {},
   "outputs": [
    {
     "name": "stdout",
     "output_type": "stream",
     "text": [
      "{'timezone': 'Asia/Seoul', 'location': '부산'}\n",
      "Asia/Seoul (부산) 현재시각 2025-07-25 16:15:08 \n"
     ]
    },
    {
     "data": {
      "text/plain": [
       "[SystemMessage(content='너는 사용자의 질문에 답변을 하기 위해 tools를 사용할 수 있다.', additional_kwargs={}, response_metadata={}),\n",
       " HumanMessage(content='부산은 지금 몇시야?', additional_kwargs={}, response_metadata={}),\n",
       " AIMessage(content='', additional_kwargs={'tool_calls': [{'id': 'call_eIjwSe0C6ECT2QXEonMEB5hi', 'function': {'arguments': '{\"timezone\":\"Asia/Seoul\",\"location\":\"부산\"}', 'name': 'get_current_time'}, 'type': 'function'}], 'refusal': None}, response_metadata={'token_usage': {'completion_tokens': 23, 'prompt_tokens': 135, 'total_tokens': 158, 'completion_tokens_details': {'accepted_prediction_tokens': 0, 'audio_tokens': 0, 'reasoning_tokens': 0, 'rejected_prediction_tokens': 0}, 'prompt_tokens_details': {'audio_tokens': 0, 'cached_tokens': 0}}, 'model_name': 'gpt-4o-mini-2024-07-18', 'system_fingerprint': 'fp_34a54ae93c', 'id': 'chatcmpl-Bx6vuBXvWWFm0acUWaqiLIw7DLvBJ', 'service_tier': 'default', 'finish_reason': 'tool_calls', 'logprobs': None}, id='run--0d8e47a3-4716-4e0d-9029-fae1c985b83c-0', tool_calls=[{'name': 'get_current_time', 'args': {'timezone': 'Asia/Seoul', 'location': '부산'}, 'id': 'call_eIjwSe0C6ECT2QXEonMEB5hi', 'type': 'tool_call'}], usage_metadata={'input_tokens': 135, 'output_tokens': 23, 'total_tokens': 158, 'input_token_details': {'audio': 0, 'cache_read': 0}, 'output_token_details': {'audio': 0, 'reasoning': 0}}),\n",
       " ToolMessage(content='Asia/Seoul (부산) 현재시각 2025-07-25 16:15:08 ', name='get_current_time', tool_call_id='call_eIjwSe0C6ECT2QXEonMEB5hi')]"
      ]
     },
     "execution_count": 40,
     "metadata": {},
     "output_type": "execute_result"
    }
   ],
   "source": "# ========================= 코드 해설 주석 시작 =========================\n# 이 셀의 역할(요약):\n#  - 툴(@tool) 혹은 도구 바인딩/툴콜 처리 로직이 포함되어 있습니다.\n# 주의: 아래 주석은 원본 코드의 동작을 변경하지 않으며, 가독성을 위해 상단에만 추가되었습니다.\n# 첫 줄 미리보기: 'for tool_call in response.tool_calls:'\n# ========================= 코드 해설 주석 끝 ===========================\nfor tool_call in response.tool_calls:\n    selected_tool = tool_dict[tool_call[\"name\"]] # (7) tool_dict를 사용하여 도구 함수를 선택\n    print(tool_call[\"args\"]) # (8) 도구 호출 시 전달된 인자 출력\n    tool_msg = selected_tool.invoke(tool_call) # (9) 도구 함수를 호출하여 결과를 반환\n    messages.append(tool_msg)\n\nmessages"
  },
  {
   "cell_type": "code",
   "execution_count": 41,
   "metadata": {},
   "outputs": [
    {
     "data": {
      "text/plain": [
       "AIMessage(content='부산의 현재 시각은 2025년 7월 25일 16시 15분입니다.', additional_kwargs={'refusal': None}, response_metadata={'token_usage': {'completion_tokens': 26, 'prompt_tokens': 192, 'total_tokens': 218, 'completion_tokens_details': {'accepted_prediction_tokens': 0, 'audio_tokens': 0, 'reasoning_tokens': 0, 'rejected_prediction_tokens': 0}, 'prompt_tokens_details': {'audio_tokens': 0, 'cached_tokens': 0}}, 'model_name': 'gpt-4o-mini-2024-07-18', 'system_fingerprint': 'fp_34a54ae93c', 'id': 'chatcmpl-Bx6vvsPA02rftYZbz0s4K7yUcxtOP', 'service_tier': 'default', 'finish_reason': 'stop', 'logprobs': None}, id='run--91db9027-7584-41c2-b929-bd033c01b03f-0', usage_metadata={'input_tokens': 192, 'output_tokens': 26, 'total_tokens': 218, 'input_token_details': {'audio': 0, 'cache_read': 0}, 'output_token_details': {'audio': 0, 'reasoning': 0}})"
      ]
     },
     "execution_count": 41,
     "metadata": {},
     "output_type": "execute_result"
    }
   ],
   "source": "# ========================= 코드 해설 주석 시작 =========================\n# 이 셀의 역할(요약):\n#  - 이 셀은 유틸리티/설정/임포트/헬퍼 함수 등 보조 로직을 수행합니다.\n# 주의: 아래 주석은 원본 코드의 동작을 변경하지 않으며, 가독성을 위해 상단에만 추가되었습니다.\n# 첫 줄 미리보기: 'llm_with_tools.invoke(messages)'\n# ========================= 코드 해설 주석 끝 ===========================\nllm_with_tools.invoke(messages)"
  },
  {
   "cell_type": "code",
   "execution_count": 42,
   "metadata": {},
   "outputs": [],
   "source": "# ========================= 코드 해설 주석 시작 =========================\n# 이 셀의 역할(요약):\n#  - Pydantic(BaseModel 등)을 활용해 데이터 검증/스키마를 정의합니다.\n# 주의: 아래 주석은 원본 코드의 동작을 변경하지 않으며, 가독성을 위해 상단에만 추가되었습니다.\n# 첫 줄 미리보기: 'from pydantic import BaseModel, Field'\n# ========================= 코드 해설 주석 끝 ===========================\nfrom pydantic import BaseModel, Field\n\nclass StockHistoryInput(BaseModel):\n    ticker: str = Field(..., title=\"주식 코드\", description=\"주식 코드 (예: AAPL)\")\n    period: str = Field(..., title=\"기간\", description=\"주식 데이터 조회 기간 (예: 1d, 1mo, 1y)\")\n"
  },
  {
   "cell_type": "code",
   "execution_count": 43,
   "metadata": {},
   "outputs": [],
   "source": "# ========================= 코드 해설 주석 시작 =========================\n# 이 셀의 역할(요약):\n#  - 툴(@tool) 혹은 도구 바인딩/툴콜 처리 로직이 포함되어 있습니다.\n# 주의: 아래 주석은 원본 코드의 동작을 변경하지 않으며, 가독성을 위해 상단에만 추가되었습니다.\n# 첫 줄 미리보기: 'import yfinance as yf'\n# ========================= 코드 해설 주석 끝 ===========================\nimport yfinance as yf\n\n@tool\ndef get_yf_stock_history(stock_history_input: StockHistoryInput) -> str:\n    \"\"\" 주식 종목의 가격 데이터를 조회하는 함수\"\"\"\n    stock = yf.Ticker(stock_history_input.ticker)\n    history = stock.history(period=stock_history_input.period)\n    history_md = history.to_markdown() \n\n    return history_md\n\ntools = [get_current_time, get_yf_stock_history]\ntool_dict = {\"get_current_time\": get_current_time, \"get_yf_stock_history\": get_yf_stock_history}\n\nllm_with_tools = llm.bind_tools(tools)"
  },
  {
   "cell_type": "code",
   "execution_count": 44,
   "metadata": {},
   "outputs": [
    {
     "name": "stdout",
     "output_type": "stream",
     "text": [
      "content='' additional_kwargs={'tool_calls': [{'id': 'call_lBxBcnNPHoZ2ytkKaNuwlEPX', 'function': {'arguments': '{\"stock_history_input\":{\"ticker\":\"TSLA\",\"period\":\"1mo\"}}', 'name': 'get_yf_stock_history'}, 'type': 'function'}], 'refusal': None} response_metadata={'token_usage': {'completion_tokens': 27, 'prompt_tokens': 283, 'total_tokens': 310, 'completion_tokens_details': {'accepted_prediction_tokens': 0, 'audio_tokens': 0, 'reasoning_tokens': 0, 'rejected_prediction_tokens': 0}, 'prompt_tokens_details': {'audio_tokens': 0, 'cached_tokens': 0}}, 'model_name': 'gpt-4o-mini-2024-07-18', 'system_fingerprint': 'fp_34a54ae93c', 'id': 'chatcmpl-Bx6vwFxrHA5QGneE6cteqqASWNj9p', 'service_tier': 'default', 'finish_reason': 'tool_calls', 'logprobs': None} id='run--931ee9a1-a188-4e8d-849f-8342dddad944-0' tool_calls=[{'name': 'get_yf_stock_history', 'args': {'stock_history_input': {'ticker': 'TSLA', 'period': '1mo'}}, 'id': 'call_lBxBcnNPHoZ2ytkKaNuwlEPX', 'type': 'tool_call'}] usage_metadata={'input_tokens': 283, 'output_tokens': 27, 'total_tokens': 310, 'input_token_details': {'audio': 0, 'cache_read': 0}, 'output_token_details': {'audio': 0, 'reasoning': 0}}\n"
     ]
    }
   ],
   "source": "# ========================= 코드 해설 주석 시작 =========================\n# 이 셀의 역할(요약):\n#  - System/Human/AI/Tool 메시지 타입으로 대화를 구성합니다.\n# 주의: 아래 주석은 원본 코드의 동작을 변경하지 않으며, 가독성을 위해 상단에만 추가되었습니다.\n# 첫 줄 미리보기: 'messages.append(HumanMessage(\"테슬라는 한달 전에 비해 주가가 올랐나 내렸나?\"))'\n# ========================= 코드 해설 주석 끝 ===========================\nmessages.append(HumanMessage(\"테슬라는 한달 전에 비해 주가가 올랐나 내렸나?\"))\n\nresponse = llm_with_tools.invoke(messages)\nprint(response)\nmessages.append(response)"
  },
  {
   "cell_type": "code",
   "execution_count": 45,
   "metadata": {},
   "outputs": [
    {
     "name": "stdout",
     "output_type": "stream",
     "text": [
      "{'stock_history_input': {'ticker': 'TSLA', 'period': '1mo'}}\n",
      "content='| Date                      |   Open |   High |    Low |   Close |      Volume |   Dividends |   Stock Splits |\\n|:--------------------------|-------:|-------:|-------:|--------:|------------:|------------:|---------------:|\\n| 2025-06-25 00:00:00-04:00 | 342.7  | 343    | 320.4  |  327.55 | 1.19845e+08 |           0 |              0 |\\n| 2025-06-26 00:00:00-04:00 | 324.61 | 331.05 | 323.61 |  325.78 | 8.04409e+07 |           0 |              0 |\\n| 2025-06-27 00:00:00-04:00 | 324.51 | 329.34 | 317.5  |  323.63 | 8.9067e+07  |           0 |              0 |\\n| 2025-06-30 00:00:00-04:00 | 319.9  | 325.58 | 316.6  |  317.66 | 7.66951e+07 |           0 |              0 |\\n| 2025-07-01 00:00:00-04:00 | 298.46 | 305.89 | 293.21 |  300.71 | 1.45086e+08 |           0 |              0 |\\n| 2025-07-02 00:00:00-04:00 | 312.63 | 316.83 | 303.82 |  315.65 | 1.19484e+08 |           0 |              0 |\\n| 2025-07-03 00:00:00-04:00 | 317.99 | 318.45 | 312.76 |  315.35 | 5.80423e+07 |           0 |              0 |\\n| 2025-07-07 00:00:00-04:00 | 291.37 | 296.15 | 288.77 |  293.94 | 1.31178e+08 |           0 |              0 |\\n| 2025-07-08 00:00:00-04:00 | 297    | 304.05 | 294.35 |  297.81 | 1.03247e+08 |           0 |              0 |\\n| 2025-07-09 00:00:00-04:00 | 297.55 | 300.15 | 293.55 |  295.88 | 7.55868e+07 |           0 |              0 |\\n| 2025-07-10 00:00:00-04:00 | 300.05 | 310.48 | 300    |  309.87 | 1.04365e+08 |           0 |              0 |\\n| 2025-07-11 00:00:00-04:00 | 307.89 | 314.09 | 305.65 |  313.51 | 7.92364e+07 |           0 |              0 |\\n| 2025-07-14 00:00:00-04:00 | 317.73 | 322.6  | 312.67 |  316.9  | 7.80434e+07 |           0 |              0 |\\n| 2025-07-15 00:00:00-04:00 | 319.68 | 321.2  | 310.5  |  310.78 | 7.75563e+07 |           0 |              0 |\\n| 2025-07-16 00:00:00-04:00 | 312.8  | 323.5  | 312.62 |  321.67 | 9.72848e+07 |           0 |              0 |\\n| 2025-07-17 00:00:00-04:00 | 323.15 | 324.34 | 317.06 |  319.41 | 7.39229e+07 |           0 |              0 |\\n| 2025-07-18 00:00:00-04:00 | 321.66 | 330.9  | 321.42 |  329.65 | 9.4255e+07  |           0 |              0 |\\n| 2025-07-21 00:00:00-04:00 | 334.4  | 338    | 326.88 |  328.49 | 7.57688e+07 |           0 |              0 |\\n| 2025-07-22 00:00:00-04:00 | 329.74 | 335.41 | 321.55 |  332.11 | 7.73704e+07 |           0 |              0 |\\n| 2025-07-23 00:00:00-04:00 | 330.9  | 336.2  | 328.67 |  332.56 | 9.25538e+07 |           0 |              0 |\\n| 2025-07-24 00:00:00-04:00 | 310    | 310.15 | 300.41 |  305.3  | 1.56392e+08 |           0 |              0 |' name='get_yf_stock_history' tool_call_id='call_lBxBcnNPHoZ2ytkKaNuwlEPX'\n"
     ]
    }
   ],
   "source": "# ========================= 코드 해설 주석 시작 =========================\n# 이 셀의 역할(요약):\n#  - 툴(@tool) 혹은 도구 바인딩/툴콜 처리 로직이 포함되어 있습니다.\n# 주의: 아래 주석은 원본 코드의 동작을 변경하지 않으며, 가독성을 위해 상단에만 추가되었습니다.\n# 첫 줄 미리보기: 'for tool_call in response.tool_calls:'\n# ========================= 코드 해설 주석 끝 ===========================\nfor tool_call in response.tool_calls:\n    selected_tool = tool_dict[tool_call[\"name\"]]\n    print(tool_call[\"args\"])\n    tool_msg = selected_tool.invoke(tool_call)\n    messages.append(tool_msg)\n    print(tool_msg)"
  },
  {
   "cell_type": "code",
   "execution_count": 46,
   "metadata": {},
   "outputs": [
    {
     "data": {
      "text/plain": [
       "AIMessage(content='한 달 전 테슬라(TSLA)의 주가는 2025년 6월 25일에 327.55 달러였고, 현재 주가는 2025년 7월 24일에 305.3 달러입니다. \\n\\n따라서, 테슬라의 주가는 한 달 전에 비해 하락했습니다.', additional_kwargs={'refusal': None}, response_metadata={'token_usage': {'completion_tokens': 75, 'prompt_tokens': 1586, 'total_tokens': 1661, 'completion_tokens_details': {'accepted_prediction_tokens': 0, 'audio_tokens': 0, 'reasoning_tokens': 0, 'rejected_prediction_tokens': 0}, 'prompt_tokens_details': {'audio_tokens': 0, 'cached_tokens': 0}}, 'model_name': 'gpt-4o-mini-2024-07-18', 'system_fingerprint': 'fp_34a54ae93c', 'id': 'chatcmpl-Bx6vyEty3hSW7sYrghAsb7ALQkw9k', 'service_tier': 'default', 'finish_reason': 'stop', 'logprobs': None}, id='run--547484eb-80b5-4783-b658-21fdf325f80e-0', usage_metadata={'input_tokens': 1586, 'output_tokens': 75, 'total_tokens': 1661, 'input_token_details': {'audio': 0, 'cache_read': 0}, 'output_token_details': {'audio': 0, 'reasoning': 0}})"
      ]
     },
     "execution_count": 46,
     "metadata": {},
     "output_type": "execute_result"
    }
   ],
   "source": "# ========================= 코드 해설 주석 시작 =========================\n# 이 셀의 역할(요약):\n#  - 이 셀은 유틸리티/설정/임포트/헬퍼 함수 등 보조 로직을 수행합니다.\n# 주의: 아래 주석은 원본 코드의 동작을 변경하지 않으며, 가독성을 위해 상단에만 추가되었습니다.\n# 첫 줄 미리보기: 'llm_with_tools.invoke(messages)'\n# ========================= 코드 해설 주석 끝 ===========================\nllm_with_tools.invoke(messages)"
  },
  {
   "cell_type": "code",
   "execution_count": null,
   "metadata": {},
   "outputs": [],
   "source": []
  }
 ],
 "metadata": {
  "kernelspec": {
   "display_name": "myvenv1",
   "language": "python",
   "name": "python3"
  },
  "language_info": {
   "codemirror_mode": {
    "name": "ipython",
    "version": 3
   },
   "file_extension": ".py",
   "mimetype": "text/x-python",
   "name": "python",
   "nbconvert_exporter": "python",
   "pygments_lexer": "ipython3",
   "version": "3.12.10"
  }
 },
 "nbformat": 4,
 "nbformat_minor": 2
}