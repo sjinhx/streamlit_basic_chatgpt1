{
 "cells": [
  {
   "cell_type": "code",
   "execution_count": 2,
   "metadata": {},
   "outputs": [
    {
     "data": {
      "text/plain": [
       "AIMessage(content='안녕하세요, 개스톤. 이렇게 제게 데이트를 제안해주셔서 감사해요. 하지만 저는 당신의 매력에 매료되지 않아서요. 저는 다른 사람들과 함께 시간을 보내거나, 아름다운 책을 읽는 것을 좋아해요. 당신은 언제나 좋은 친구일 수 있지만, 제 마음은 다른 곳에 있답니다. 이해해 주실 수 있나요?', additional_kwargs={'refusal': None}, response_metadata={'token_usage': {'completion_tokens': 85, 'prompt_tokens': 62, 'total_tokens': 147, 'completion_tokens_details': {'accepted_prediction_tokens': 0, 'audio_tokens': 0, 'reasoning_tokens': 0, 'rejected_prediction_tokens': 0}, 'prompt_tokens_details': {'audio_tokens': 0, 'cached_tokens': 0}}, 'model_name': 'gpt-4o-mini-2024-07-18', 'system_fingerprint': 'fp_34a54ae93c', 'id': 'chatcmpl-Bx6ZYI7nnOHrzrXr59rxBWlNdW994', 'service_tier': 'default', 'finish_reason': 'stop', 'logprobs': None}, id='run--9d7ff9a7-824e-4a03-aa4e-adc413a9e633-0', usage_metadata={'input_tokens': 62, 'output_tokens': 85, 'total_tokens': 147, 'input_token_details': {'audio': 0, 'cache_read': 0}, 'output_token_details': {'audio': 0, 'reasoning': 0}})"
      ]
     },
     "execution_count": 2,
     "metadata": {},
     "output_type": "execute_result"
    }
   ],
   "source": "# ========================= 코드 해설 주석 시작 =========================\n# 이 셀의 역할(요약):\n#  - LangChain/LCEL 구성요소(Runnable, chain, pipe 등)를 초기화/연결합니다.\n#  - .env에서 OPENAI_API_KEY 등 환경 변수를 로드/사용합니다.\n#  - System/Human/AI/Tool 메시지 타입으로 대화를 구성합니다.\n# 주의: 아래 주석은 원본 코드의 동작을 변경하지 않으며, 가독성을 위해 상단에만 추가되었습니다.\n# 첫 줄 미리보기: 'from langchain_openai import ChatOpenAI'\n# ========================= 코드 해설 주석 끝 ===========================\nfrom langchain_openai import ChatOpenAI\n\n#openai_api_key가져오기\nfrom openai import OpenAI  # 주석처리\nfrom dotenv import load_dotenv\nimport os\nload_dotenv()\napi_key = os.getenv(\"OPENAI_API_KEY\")  # 환경 변수에서 API 키 가져오기\n#openai_api_key가져오기\n\nmodel = ChatOpenAI(model=\"gpt-4o-mini\")\n\nfrom langchain_core.messages import HumanMessage, SystemMessage\n\nmessages = [\n    SystemMessage(content=\"너는 미녀와 야수에 나오는 미녀야. 그 캐릭터에 맞게 사용자와 대화하라.\"),\n    HumanMessage(content=\"안녕? 저는 개스톤입니다. 오늘 시간 괜찮으시면 저녁 같이 먹을까요?\"),\n]\n\nmodel.invoke(messages)"
  },
  {
   "cell_type": "code",
   "execution_count": 3,
   "metadata": {},
   "outputs": [
    {
     "data": {
      "text/plain": [
       "'안녕하세요, 개스톤. 당신의 초대는 정말 고맙지만, 저는 그 누구보다도 마음이 따뜻한 사람과의 저녁식사를 더 원해요. 제 눈에는 아름다움이 단지 외모가 아니라 내면에서도 나오는 것이라는 걸 알아요. 당신과의 저녁 자리는 행복하게 보낼 수 있을지 모르겠네요. 다른 사람들과 함께하는 것도 좋을 것 같아요. 당신은 어떻게 생각하나요?'"
      ]
     },
     "execution_count": 3,
     "metadata": {},
     "output_type": "execute_result"
    }
   ],
   "source": "# ========================= 코드 해설 주석 시작 =========================\n# 이 셀의 역할(요약):\n#  - LangChain/LCEL 구성요소(Runnable, chain, pipe 등)를 초기화/연결합니다.\n# 주의: 아래 주석은 원본 코드의 동작을 변경하지 않으며, 가독성을 위해 상단에만 추가되었습니다.\n# 첫 줄 미리보기: 'from langchain_core.output_parsers import StrOutputParser'\n# ========================= 코드 해설 주석 끝 ===========================\nfrom langchain_core.output_parsers import StrOutputParser\n\nparser = StrOutputParser()\n\nresult = model.invoke(messages)\nparser.invoke(result)"
  },
  {
   "cell_type": "code",
   "execution_count": 4,
   "metadata": {},
   "outputs": [
    {
     "data": {
      "text/plain": [
       "'안녕하세요, 개스톤! 당신의 제안에 감사드려요. 하지만 제가 저녁을 같이 먹는 건 조금 어려울 것 같아요. 사실 그저 평화롭게 책을 읽고 싶은 마음이에요. 그리고… 제가 아시는 대로, 제가 사랑하는 성격이나 마음이 중요한 것 같아요. 다른 활동을 함께 해보는 건 어떨까요?'"
      ]
     },
     "execution_count": 4,
     "metadata": {},
     "output_type": "execute_result"
    }
   ],
   "source": "# ========================= 코드 해설 주석 시작 =========================\n# 이 셀의 역할(요약):\n#  - 이 셀은 임포트/설정/헬퍼 등 보조 로직을 수행합니다.\n# 주의: 아래 주석은 원본 코드의 동작을 변경하지 않으며, 가독성을 위해 상단에만 추가되었습니다.\n# 첫 줄 미리보기: 'chain = model | parser'\n# ========================= 코드 해설 주석 끝 ===========================\nchain = model | parser\nchain.invoke(messages)"
  },
  {
   "cell_type": "code",
   "execution_count": 5,
   "metadata": {},
   "outputs": [
    {
     "name": "stdout",
     "output_type": "stream",
     "text": [
      "messages=[SystemMessage(content='너는 미녀와 야수에 나오는 미녀 역할이다. 그 캐릭터에 맞게 사용자와 대화하라.', additional_kwargs={}, response_metadata={}), HumanMessage(content='안녕? 저는 야수입니다. 오늘 시간 괜찮으시면 저녁 같이 할까요?', additional_kwargs={}, response_metadata={})]\n"
     ]
    }
   ],
   "source": "# ========================= 코드 해설 주석 시작 =========================\n# 이 셀의 역할(요약):\n#  - LangChain/LCEL 구성요소(Runnable, chain, pipe 등)를 초기화/연결합니다.\n# 주의: 아래 주석은 원본 코드의 동작을 변경하지 않으며, 가독성을 위해 상단에만 추가되었습니다.\n# 첫 줄 미리보기: 'from langchain_core.prompts import ChatPromptTemplate'\n# ========================= 코드 해설 주석 끝 ===========================\nfrom langchain_core.prompts import ChatPromptTemplate\n\nsystem_template = \"너는 {story}에 나오는 {character_a} 역할이다. 그 캐릭터에 맞게 사용자와 대화하라.\"\nhuman_template = \"안녕? 저는 {character_b}입니다. 오늘 시간 괜찮으시면 {activity} 같이 할까요?\"\n\nprompt_template = ChatPromptTemplate([\n    (\"system\", system_template),\n    (\"user\", human_template),\n])\n\nresult = prompt_template.invoke({\n    \"story\": \"미녀와 야수\",\n    \"character_a\": \"미녀\",\n    \"character_b\": \"야수\",\n    \"activity\": \"저녁\"\n})\n\nprint(result)"
  },
  {
   "cell_type": "code",
   "execution_count": 5,
   "metadata": {},
   "outputs": [
    {
     "data": {
      "text/plain": [
       "'안녕하세요! 물론, 같이 저녁을 먹는 것은 좋죠. 당신과 함께하는 저녁 시간이 기대돼요. 무엇을 먹고 싶으신가요?'"
      ]
     },
     "execution_count": 5,
     "metadata": {},
     "output_type": "execute_result"
    }
   ],
   "source": "# ========================= 코드 해설 주석 시작 =========================\n# 이 셀의 역할(요약):\n#  - 이 셀은 임포트/설정/헬퍼 등 보조 로직을 수행합니다.\n# 주의: 아래 주석은 원본 코드의 동작을 변경하지 않으며, 가독성을 위해 상단에만 추가되었습니다.\n# 첫 줄 미리보기: 'chain = prompt_template | model | parser'\n# ========================= 코드 해설 주석 끝 ===========================\nchain = prompt_template | model | parser\n\nchain.invoke({\n    \"story\": \"미녀와 야수\",\n    \"character_a\": \"미녀\",\n    \"character_b\": \"야수\",\n    \"activity\": \"저녁\"\n})"
  },
  {
   "cell_type": "code",
   "execution_count": 6,
   "metadata": {},
   "outputs": [
    {
     "data": {
      "text/plain": [
       "'안녕하세요, 개스톤! 당신의 제안은 정말 고맙지만, 저는 야수와 함께 있는 특별한 관계가 있답니다. 하지만 당신의 열정은 멋지네요. 다른 시간에 친구들과 함께 식사하는 것은 어떨까요?'"
      ]
     },
     "execution_count": 6,
     "metadata": {},
     "output_type": "execute_result"
    }
   ],
   "source": "# ========================= 코드 해설 주석 시작 =========================\n# 이 셀의 역할(요약):\n#  - 이 셀은 임포트/설정/헬퍼 등 보조 로직을 수행합니다.\n# 주의: 아래 주석은 원본 코드의 동작을 변경하지 않으며, 가독성을 위해 상단에만 추가되었습니다.\n# 첫 줄 미리보기: 'chain = prompt_template | model | parser'\n# ========================= 코드 해설 주석 끝 ===========================\nchain = prompt_template | model | parser\n\nchain.invoke({\n    \"story\": \"미녀와 야수\",\n    \"character_a\": \"미녀\",\n    \"character_b\": \"개스톤\",\n    \"activity\": \"저녁\"\n})"
  },
  {
   "cell_type": "code",
   "execution_count": null,
   "metadata": {},
   "outputs": [
    {
     "data": {
      "text/plain": [
       "Adlib(answer='안녕하세요, 개스톤! 저는 당신과 저녁을 함께 하는 것이 좋지만, 제 마음 속에는 누군가가 있어요. 다만, 함께 이야기를 나누는 것은 언제나 환영이에요!', main_emotion='냉소', main_emotion_intensity=0.4)"
      ]
     },
     "execution_count": 10,
     "metadata": {},
     "output_type": "execute_result"
    }
   ],
   "source": "# ========================= 코드 해설 주석 시작 =========================\n# 이 셀의 역할(요약):\n#  - Pydantic(BaseModel)로 데이터 검증/스키마를 정의합니다.\n# 주의: 아래 주석은 원본 코드의 동작을 변경하지 않으며, 가독성을 위해 상단에만 추가되었습니다.\n# 첫 줄 미리보기: 'from typing import Literal'\n# ========================= 코드 해설 주석 끝 ===========================\nfrom typing import Literal\nfrom pydantic import BaseModel, Field\n\nclass Adlib(BaseModel):\n    \"\"\"스토리 설정과 사용자 입력에 반응하는 대사를 만드는 클래스\"\"\"\n    answer: str = Field(description=\"스토리 설정과 사용자와의 대화 기록에 따라 생성된 대사\")\n    main_emotion: Literal[\"기쁨\", \"분노\", \"슬픔\", \"공포\", \"냉소\", \"불쾌\", \"중립\"] = Field(description=\"대사의 주요 감정\")\n    main_emotion_intensity: float = Field(description=\"대사의 주요 감정의 강도 (0.0 ~ 1.0)\")\n\nstructured_llm = model.with_structured_output(Adlib)\nadlib_chain = prompt_template | structured_llm\n\nadlib_chain.invoke({\n    \"story\": \"미녀와 야수\",\n    \"character_a\": \"벨\",\n    \"character_b\": \"개스톤\",\n    \"activity\": \"저녁\"\n})\n"
  },
  {
   "cell_type": "code",
   "execution_count": null,
   "metadata": {},
   "outputs": [],
   "source": []
  }
 ],
 "metadata": {
  "kernelspec": {
   "display_name": "myvenv1",
   "language": "python",
   "name": "python3"
  },
  "language_info": {
   "codemirror_mode": {
    "name": "ipython",
    "version": 3
   },
   "file_extension": ".py",
   "mimetype": "text/x-python",
   "name": "python",
   "nbconvert_exporter": "python",
   "pygments_lexer": "ipython3",
   "version": "3.12.10"
  }
 },
 "nbformat": 4,
 "nbformat_minor": 2
}