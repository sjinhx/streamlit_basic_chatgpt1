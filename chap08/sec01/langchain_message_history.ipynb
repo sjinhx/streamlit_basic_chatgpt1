{
 "cells": [
  {
   "cell_type": "code",
   "execution_count": 2,
   "metadata": {},
   "outputs": [],
   "source": [
    "from openai import OpenAI  # 주석처리\n",
    "from dotenv import load_dotenv\n",
    "import os\n",
    "\n",
    "from langchain_core.chat_history import InMemoryChatMessageHistory  # 메모리에 대화 기록을 저장하는 클래스\n",
    "from langchain_core.runnables.history import RunnableWithMessageHistory  # 메시지 기록을 활용해 실행 가능한 래퍼wrapper 클래스\n",
    "from langchain_openai import ChatOpenAI  # 오픈AI 모델을 사용하는 랭체인 챗봇 클래스\n",
    "from langchain_core.messages import HumanMessage\n",
    "\n",
    "load_dotenv()\n",
    "api_key = os.getenv(\"OPENAI_API_KEY\")  # 환경 변수에서 API 키 가져오기\n",
    "\n",
    "\n",
    "\n",
    "model = ChatOpenAI(model=\"gpt-4o-mini\")\n",
    "\n",
    "# 세션별 대화 기록을 저장할 딕셔너리\n",
    "store = {}\n",
    "\n",
    "# 세션 ID에 따라 대화 기록을 가져오는 함수\n",
    "def get_session_history(session_id: str):\n",
    "    # 만약 해당 세션 ID가 store에 없으면, 새로 생성해 추가함\n",
    "    if session_id not in store:\n",
    "        store[session_id] = InMemoryChatMessageHistory()  # 메모리에 대화 기록을 저장하는 객체 생성\n",
    "    return store[session_id]  # 해당 세션의 대화 기록을 반환\n",
    "\n",
    "# 모델 실행 시 대화 기록을 함께 전달하는 래퍼 객체 생성\n",
    "with_message_history = RunnableWithMessageHistory(model, get_session_history)"
   ]
  },
  {
   "cell_type": "code",
   "execution_count": 3,
   "metadata": {},
   "outputs": [
    {
     "name": "stdout",
     "output_type": "stream",
     "text": [
      "안녕하세요, 이형열님! 어떻게 도와드릴까요?\n"
     ]
    }
   ],
   "source": [
    "config = {\"configurable\": {\"session_id\": \"abc2\"}}  # 세션 ID를 설정하는 config 객체 생성\n",
    "\n",
    "response = with_message_history.invoke(\n",
    "    [HumanMessage(content=\"안녕? 난 이형열이야.\")],\n",
    "    config=config,\n",
    ")\n",
    "\n",
    "print(response.content)"
   ]
  },
  {
   "cell_type": "code",
   "execution_count": 4,
   "metadata": {},
   "outputs": [
    {
     "name": "stdout",
     "output_type": "stream",
     "text": [
      "당신의 이름은 이형열입니다. 어떻게 도와드릴까요?\n"
     ]
    }
   ],
   "source": [
    "response = with_message_history.invoke(\n",
    "    [HumanMessage(content=\"내 이름이 뭐지?\")],\n",
    "    config=config,\n",
    ")\n",
    "\n",
    "print(response.content)"
   ]
  },
  {
   "cell_type": "code",
   "execution_count": 5,
   "metadata": {},
   "outputs": [
    {
     "data": {
      "text/plain": [
       "'죄송하지만, 당신의 이름을 알 수 없습니다. 당신의 이름을 알려주시면 좋겠습니다!'"
      ]
     },
     "execution_count": 5,
     "metadata": {},
     "output_type": "execute_result"
    }
   ],
   "source": [
    "config = {\"configurable\": {\"session_id\": \"abc3\"}}\n",
    "\n",
    "response = with_message_history.invoke(\n",
    "    [HumanMessage(content=\"내 이름이 뭐지?\")],\n",
    "    config=config,\n",
    ")\n",
    "\n",
    "response.content"
   ]
  },
  {
   "cell_type": "code",
   "execution_count": 6,
   "metadata": {},
   "outputs": [
    {
     "data": {
      "text/plain": [
       "'우리는 당신의 이름인 이형열에 대해 이야기했어요. 혹시 다른 주제에 대해 이야기하고 싶으신가요? 궁금한 점이나 나누고 싶은 이야기가 있다면 말씀해 주세요!'"
      ]
     },
     "execution_count": 6,
     "metadata": {},
     "output_type": "execute_result"
    }
   ],
   "source": [
    "config = {\"configurable\": {\"session_id\": \"abc2\"}}\n",
    "\n",
    "response = with_message_history.invoke(\n",
    "    [HumanMessage(content=\"아까 우리가 무슨 얘기 했지?\")],\n",
    "    config=config,\n",
    ")\n",
    "\n",
    "response.content"
   ]
  },
  {
   "cell_type": "code",
   "execution_count": 7,
   "metadata": {},
   "outputs": [
    {
     "name": "stdout",
     "output_type": "stream",
     "text": [
      "|이|형|열|이라는| 이름|은| 한국|에서| 흔|히| 사용|되는| 이름|이|어서|,| 당신|은| 한국| 사람|일| 가능|성이| 높|다고| 생각|합니다|.| 한국| 문화|에| 대해| 몇| 가지| 말씀|드|리|자|면|:\n",
      "\n",
      "|1|.| **|음|식|**|:| 한국| 음식|은| 다양|하고| 풍|부|한| 맛|을| 자|랑|합니다|.| 김|치|,| 비|빔|밥|,| 불|고|기|,| 떡|볶|이| 등| 다양한| 전|통| 요|리가| 있습니다|.\n",
      "\n",
      "|2|.| **|전|통|과| 현대|**|:| 한국|은| 전|통|과| 현대|가| 잘| 어|우|러|져| 있는| 나라|입니다|.| 고|대| 궁|궐|과| 현대|식| skyscr|aper|가| 공|존|하며|,| K|-|POP|과| 전|통| 음악|,| 춤|이| 함께| 즐|길| 수| 있습니다|.\n",
      "\n",
      "|3|.| **|명|절|**|:| 설|날|과| 추|석|은| 한국|의| 대표|적인| 명|절|로|,| 가족|이| 모|여| 함께| 시간을| 보내|고| 전|통| 음|식을| 나|누|는| 중요한| 날|입니다|.\n",
      "\n",
      "|4|.| **|한|글|**|:| 한국|의| 공식| 문자| 체|계|인| 한|글|은| 과|학|적인| 설|계|로| 인해| 배우|기| 쉽|고|,| 모든| 사람|에게| 알|기| 쉽게| 되어| 있습니다|.\n",
      "\n",
      "|5|.| **|예|절|**|:| 한국| 문화|에서| 예|의|는| 매우| 중요|하게| 여|겨|집|니다|.| 나|이에| 따라| 존|댓|말|을| 사용|하고|,| 인|사|나| 자|리를| 양|보|하는| 등의| 행동|이| 중|시|됩니다|.\n",
      "\n",
      "|이|와| 관련|해| 더| 궁|금|한| 점|이나| 다른| 문화|에| 대해| 알고| 싶|으|신| 것이| 있다|면| 말씀|해| 주세요|!||"
     ]
    }
   ],
   "source": [
    "config = {\"configurable\": {\"session_id\": \"abc2\"}}\n",
    "for r in with_message_history.stream(\n",
    "    [HumanMessage(content = \"내가 어느 나라 사람인지 맞춰보고, 그 나라의 문화에 대해 말해봐\")],\n",
    "    config=config,\n",
    "):\n",
    "    print(r.content, end=\"|\")"
   ]
  },
  {
   "cell_type": "code",
   "execution_count": null,
   "metadata": {},
   "outputs": [],
   "source": []
  }
 ],
 "metadata": {
  "kernelspec": {
   "display_name": "myvenv1",
   "language": "python",
   "name": "python3"
  },
  "language_info": {
   "codemirror_mode": {
    "name": "ipython",
    "version": 3
   },
   "file_extension": ".py",
   "mimetype": "text/x-python",
   "name": "python",
   "nbconvert_exporter": "python",
   "pygments_lexer": "ipython3",
   "version": "3.12.10"
  }
 },
 "nbformat": 4,
 "nbformat_minor": 2
}
